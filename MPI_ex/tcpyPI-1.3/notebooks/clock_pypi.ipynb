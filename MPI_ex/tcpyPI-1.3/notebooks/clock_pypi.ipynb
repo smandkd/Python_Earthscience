{
 "cells": [
  {
   "cell_type": "markdown",
   "metadata": {},
   "source": [
    "# Goal"
   ]
  },
  {
   "cell_type": "markdown",
   "metadata": {},
   "source": [
    "This code estimates the time it takes to make large numbers of pyPI runs. I randomly draw N samples from the sample dataset and then calculate their associated potential intensities with the **pi.py** module and using \"apply_ufunc\" in xarray. These calculations were performed on laptop with a 3.1 GHz Intel Core processor.\n",
    "\n",
    "The size of the sample data is important because pyPI calculations are profile dependant. There are 31 vertical levels in our sample dataset, and about 126,000 points. Running the whole dataset takes about 15 seconds."
   ]
  },
  {
   "cell_type": "markdown",
   "metadata": {},
   "source": [
    "# Setup"
   ]
  },
  {
   "cell_type": "code",
   "execution_count": 2,
   "metadata": {},
   "outputs": [],
   "source": [
    "# import what we need\n",
    "import sys\n",
    "sys.path.append(sys.path[0]+'/..')\n",
    "import numpy as np\n",
    "import xarray as xr\n",
    "import matplotlib\n",
    "import matplotlib.pyplot as plt\n",
    "import time\n",
    "import random\n",
    "# load PI calculation module\n",
    "from pyPI import pi"
   ]
  },
  {
   "cell_type": "code",
   "execution_count": 3,
   "metadata": {},
   "outputs": [],
   "source": [
    "# change default figure font settings\n",
    "font = {'family' : 'sans-serif',\n",
    "        'weight' : 1,\n",
    "        'size'   : 16}\n",
    "\n",
    "matplotlib.rc('font', **font)"
   ]
  },
  {
   "cell_type": "markdown",
   "metadata": {},
   "source": [
    "# Load Data"
   ]
  },
  {
   "cell_type": "code",
   "execution_count": 4,
   "metadata": {},
   "outputs": [],
   "source": [
    "# data location\n",
    "dat_loc='../data/sample_data.nc'\n",
    "# load= netcdf file\n",
    "ds = xr.open_dataset(dat_loc)"
   ]
  },
  {
   "cell_type": "markdown",
   "metadata": {},
   "source": [
    "## Create Sample Datasets"
   ]
  },
  {
   "cell_type": "markdown",
   "metadata": {},
   "source": [
    "Sample from the test data randomly to create data sets with a scaling number of points. From these we will test 10 times to capture the variability in the runtime."
   ]
  },
  {
   "cell_type": "code",
   "execution_count": 5,
   "metadata": {},
   "outputs": [],
   "source": [
    "# set the random seed\n",
    "np.random.seed(2)"
   ]
  },
  {
   "cell_type": "code",
   "execution_count": 6,
   "metadata": {},
   "outputs": [
    {
     "name": "stdout",
     "output_type": "stream",
     "text": [
      "126144   31\n"
     ]
    }
   ],
   "source": [
    "ngrid=ds.lat.size*ds.lon.size*ds.month.size\n",
    "nlev=ds.p.size\n",
    "print(ngrid,' ',nlev)"
   ]
  },
  {
   "cell_type": "code",
   "execution_count": 7,
   "metadata": {},
   "outputs": [
    {
     "data": {
      "text/plain": [
       "array([     1,    216,   1331,   4096,   9261,  17576,  29791,  46656,\n",
       "        68921,  97336, 132651, 175616, 226981, 287496, 357911, 438976,\n",
       "       531441, 636056, 753571, 884736])"
      ]
     },
     "execution_count": 7,
     "metadata": {},
     "output_type": "execute_result"
    }
   ],
   "source": [
    "# define the number of samples in each dataset\n",
    "#nsamps=np.asarray([1e0,1e1,1e2,1e3,1e4,1e5,ngrid],dtype='int64')\n",
    "nsamps=np.arange(0,100)+1\n",
    "nsamps=nsamps[::5]\n",
    "ncube=nsamps**3\n",
    "ncube"
   ]
  },
  {
   "cell_type": "markdown",
   "metadata": {},
   "source": [
    "## Time the Runs"
   ]
  },
  {
   "cell_type": "code",
   "execution_count": 8,
   "metadata": {},
   "outputs": [
    {
     "name": "stdout",
     "output_type": "stream",
     "text": [
      "0   Time Elapsed=4.01777195930481\n",
      "1   Time Elapsed=7.453341960906982\n",
      "2   Time Elapsed=13.447799921035767\n",
      "3   Time Elapsed=26.296851873397827\n",
      "4   Time Elapsed=54.94312500953674\n",
      "5   Time Elapsed=111.17711591720581\n",
      "6   Time Elapsed=178.04299807548523\n",
      "7   Time Elapsed=283.1557900905609\n",
      "8   Time Elapsed=423.86614298820496\n",
      "9   Time Elapsed=617.5163240432739\n",
      "10   Time Elapsed=832.5707020759583\n",
      "11   Time Elapsed=1133.0132489204407\n",
      "12   Time Elapsed=1551.0166070461273\n",
      "13   Time Elapsed=2021.6843750476837\n",
      "14   Time Elapsed=2632.807121992111\n",
      "15   Time Elapsed=3182.675828933716\n",
      "16   Time Elapsed=4044.3963158130646\n",
      "17   Time Elapsed=4890.424643039703\n",
      "18   Time Elapsed=5760.4049479961395\n",
      "19   Time Elapsed=7127.273983001709\n"
     ]
    }
   ],
   "source": [
    "# create the time elapsed array\n",
    "nruns=10\n",
    "time_elapsed=np.zeros((nruns,len(nsamps)),dtype='float64')\n",
    "from xarray import apply_ufunc\n",
    "\n",
    "time0=time.time()\n",
    "\n",
    "for j in range(len(nsamps)):\n",
    "    rlat,rlon,rmon=np.random.randint(0,ds.lat.size,nsamps[j]),np.random.randint(0,ds.lon.size,nsamps[j]),np.random.randint(0,ds.month.size,nsamps[j])\n",
    "    ds0=ds.isel(lat=rlat,lon=rlon,month=rmon)\n",
    "    \n",
    "    for i in range(nruns):\n",
    "        start_time = time.time()\n",
    "        result = apply_ufunc(\n",
    "            pi,\n",
    "            ds0['sst'], ds0['msl'], ds0['p'], ds0['t'], ds0['q'],\n",
    "            kwargs=dict(CKCD=0.9, ascent_flag=0, diss_flag=1, miss_handle=1),\n",
    "            input_core_dims=[\n",
    "                [], [], ['p', ], ['p', ], ['p', ],\n",
    "            ],\n",
    "            output_core_dims=[\n",
    "                [], [], [], [], []\n",
    "            ],\n",
    "            vectorize=True\n",
    "        )\n",
    "        time_elapsed[i,j]=time.time()-start_time\n",
    "    del rlat, rlon, rmon, ds0\n",
    "    print(str(j)+'   Time Elapsed='+str(time.time()-time0))"
   ]
  },
  {
   "cell_type": "code",
   "execution_count": 9,
   "metadata": {},
   "outputs": [],
   "source": [
    "# fit a curve\n",
    "z = np.polyfit(ncube,np.mean(time_elapsed,axis=0), 1)\n",
    "p = np.poly1d(z)\n",
    "x = np.linspace(0, 1e6, 1000)"
   ]
  },
  {
   "cell_type": "code",
   "execution_count": 10,
   "metadata": {},
   "outputs": [
    {
     "name": "stdout",
     "output_type": "stream",
     "text": [
      "R-squared is 0.9667619135142331\n"
     ]
    }
   ],
   "source": [
    "print('R-squared is '+str(np.ma.corrcoef(ncube,np.mean(time_elapsed,axis=0))[0,1]**2))"
   ]
  },
  {
   "cell_type": "code",
   "execution_count": 11,
   "metadata": {},
   "outputs": [
    {
     "data": {
      "image/png": "[encoded data removed]",
      "text/plain": [
       "<Figure size 576x432 with 1 Axes>"
      ]
     },
     "metadata": {
      "needs_background": "light"
     },
     "output_type": "display_data"
    }
   ],
   "source": [
    "plt.figure(figsize=(8,6))\n",
    "plt.errorbar(ncube,np.mean(time_elapsed,axis=0), yerr=2*np.std(time_elapsed,axis=0),color='k',label='2$\\sigma$')\n",
    "plt.plot(ncube,np.mean(time_elapsed,axis=0),'b',lw=4,label='Mean Runtime')\n",
    "plt.plot(x,p(x),'--k',label='Fit='+str(round(z[0]*100000,2))+'s per 100k runs')\n",
    "plt.ylabel('Time per pyPI run (s)')\n",
    "plt.xlabel('Number of samples')\n",
    "plt.grid()\n",
    "plt.xticks(np.arange(0,1e6+1,1e5),labels=['0','100k','200k','300k','400k','500k','600k','700k','800k','900k','1Mil.'])\n",
    "plt.xlim([0,1e6])\n",
    "plt.legend()\n",
    "plt.show()"
   ]
  },
  {
   "cell_type": "code",
   "execution_count": null,
   "metadata": {},
   "outputs": [],
   "source": []
  }
 ],
 "metadata": {
  "kernelspec": {
   "display_name": "Python 3",
   "language": "python",
   "name": "python3"
  },
  "language_info": {
   "codemirror_mode": {
    "name": "ipython",
    "version": 3
   },
   "file_extension": ".py",
   "mimetype": "text/x-python",
   "name": "python",
   "nbconvert_exporter": "python",
   "pygments_lexer": "ipython3",
   "version": "3.7.6"
  }
 },
 "nbformat": 4,
 "nbformat_minor": 4
}
